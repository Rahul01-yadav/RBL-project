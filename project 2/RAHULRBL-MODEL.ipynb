{
 "cells": [
  {
   "cell_type": "code",
   "execution_count": 1,
   "id": "5c7d961b",
   "metadata": {},
   "outputs": [],
   "source": [
    "import tkinter as tk\n",
    "from tkinter import *\n",
    "from tkinter import filedialog\n",
    "from tkinter.ttk import Combobox"
   ]
  },
  {
   "cell_type": "code",
   "execution_count": 3,
   "id": "42dc837b",
   "metadata": {},
   "outputs": [],
   "source": [
    "import pyttsx3\n",
    "import os"
   ]
  },
  {
   "cell_type": "code",
   "execution_count": 5,
   "id": "35faf0a8",
   "metadata": {},
   "outputs": [],
   "source": [
    "from gtts import gTTS"
   ]
  },
  {
   "cell_type": "code",
   "execution_count": 7,
   "id": "c953cccb",
   "metadata": {},
   "outputs": [],
   "source": [
    "from playsound import playsound"
   ]
  },
  {
   "cell_type": "code",
   "execution_count": 9,
   "id": "7743819f",
   "metadata": {},
   "outputs": [],
   "source": [
    "root = Tk()\n",
    "root.title(\"Rahul RBL Model\")\n",
    "root.geometry(\"1000x580+200+80\")\n",
    "root.resizable(False,False)\n",
    "root.configure(bg = \"#F7AC40\")\n",
    "# root.mainloop()"
   ]
  },
  {
   "cell_type": "code",
   "execution_count": 11,
   "id": "efc60ae5",
   "metadata": {},
   "outputs": [],
   "source": [
    "Label(root,text=\"Rahul\",font='Algerian 30 bold',bg=\"#F7AC40\").place(x=865,y=535)"
   ]
  },
  {
   "cell_type": "code",
   "execution_count": 13,
   "id": "c04f5e81",
   "metadata": {},
   "outputs": [],
   "source": [
    "tts = pyttsx3.init()\n",
    "def speaknow():\n",
    "    text = text_box.get(1.0,END)\n",
    "    gender = gender_box.get()\n",
    "    speed = speed_box.get()\n",
    "    voices = tts.getProperty('voices')\n",
    "    def setvoice():\n",
    "        if(gender=='Male'):\n",
    "            tts.setProperty('voice',voices[0].id)\n",
    "            tts.say(text)\n",
    "            tts.runAndWait()\n",
    "        else:\n",
    "            tts.setProperty('voice',voices[1].id)\n",
    "            tts.say(text)\n",
    "            tts.runAndWait()\n",
    "    if(text): \n",
    "        if(speed=='Fast'):\n",
    "            tts.setProperty('rate',250)\n",
    "            setvoice()\n",
    "        elif(speed=='Medium'):\n",
    "            tts.setProperty('rate',150)\n",
    "            setvoice()\n",
    "        else:\n",
    "            tts.setProperty('rate',60)\n",
    "            setvoice()"
   ]
  },
  {
   "cell_type": "code",
   "execution_count": 15,
   "id": "d4e25581",
   "metadata": {},
   "outputs": [],
   "source": [
    "upper_frame = Frame(root,bg=\"#14A7DD\",width=1200,height=100)\n",
    "upper_frame.place(x=0,y=0)\n",
    "# root.mainloop()"
   ]
  },
  {
   "cell_type": "code",
   "execution_count": 23,
   "id": "f55b628f",
   "metadata": {},
   "outputs": [],
   "source": [
    "converter_logo = PhotoImage(file = \"C:/Users/DELL/Downloads/project 2/rbl.png\")\n",
    "Label(upper_frame,image = converter_logo,bg = \"#14A7DD\").place(x=40,y=9)"
   ]
  },
  {
   "cell_type": "code",
   "execution_count": 25,
   "id": "b7b29f24",
   "metadata": {},
   "outputs": [],
   "source": [
    "Label(upper_frame,text=\"Text to speech converter\",font=\"TimesNewroman 40 bold\", bg=\"#14A7DD\",fg='white').place(x=300,y=25)\n",
    "# root.mainloop()"
   ]
  },
  {
   "cell_type": "code",
   "execution_count": 27,
   "id": "6ad89679",
   "metadata": {},
   "outputs": [],
   "source": [
    "text_box = Text(root,font=\"calibri 20\",bg = \"white\",relief = GROOVE, wrap = WORD,bd = 0)\n",
    "text_box.place(x=30,y=120,width=940,height=220)\n",
    "#  root.mainloop()"
   ]
  },
  {
   "cell_type": "code",
   "execution_count": 29,
   "id": "8e84d29d",
   "metadata": {},
   "outputs": [],
   "source": [
    "gender_box = Combobox(root,values = ['Male','Female'],font = \"Robote 12\",state='r',width=12)\n",
    "gender_box.place(x = 340,y = 400)\n",
    "gender_box.set('Male')\n",
    "# root.mainloop()"
   ]
  },
  {
   "cell_type": "code",
   "execution_count": 31,
   "id": "29c828e5",
   "metadata": {},
   "outputs": [],
   "source": [
    "speed_box = Combobox(root,values = ['Fast','Medium','Slow'],font = \"Robote 12\",state='r',width=12)\n",
    "speed_box.place(x = 540,y = 400)\n",
    "speed_box.set('Medium')\n",
    "# root.mainloop()"
   ]
  },
  {
   "cell_type": "code",
   "execution_count": 33,
   "id": "bae95835",
   "metadata": {},
   "outputs": [],
   "source": [
    "Label(root,text = \"Select voice type\",font = 'TimesNewroman 15 bold',bg = \"#F7AC40\",fg = \"white\").place(x = 320,y = 370)"
   ]
  },
  {
   "cell_type": "code",
   "execution_count": 35,
   "id": "9f893c6f",
   "metadata": {},
   "outputs": [],
   "source": [
    "Label(root,text = \"Select speed type\",font = 'TimesNewroman 15 bold',bg = \"#F7AC40\",fg = \"white\").place(x = 520,y = 370)"
   ]
  },
  {
   "cell_type": "code",
   "execution_count": 37,
   "id": "52be488d",
   "metadata": {},
   "outputs": [],
   "source": [
    "# root.mainloop()"
   ]
  },
  {
   "cell_type": "code",
   "execution_count": 39,
   "id": "ef66f359",
   "metadata": {},
   "outputs": [],
   "source": [
    "play_button = Button(root,text = \"Play\",compound = LEFT,bg=\"white\",width=12,font=\"arial 14 bold\",borderwidth=\"0.1c\",command=speaknow)\n",
    "play_button.place(x=435,y=450)\n",
    "root.mainloop()"
   ]
  },
  {
   "cell_type": "code",
   "execution_count": null,
   "id": "e800668a",
   "metadata": {},
   "outputs": [],
   "source": []
  },
  {
   "cell_type": "code",
   "execution_count": null,
   "id": "02f5b886-708d-4bd2-9be2-b06d5f77c17f",
   "metadata": {},
   "outputs": [],
   "source": []
  }
 ],
 "metadata": {
  "kernelspec": {
   "display_name": "Python 3 (ipykernel)",
   "language": "python",
   "name": "python3"
  },
  "language_info": {
   "codemirror_mode": {
    "name": "ipython",
    "version": 3
   },
   "file_extension": ".py",
   "mimetype": "text/x-python",
   "name": "python",
   "nbconvert_exporter": "python",
   "pygments_lexer": "ipython3",
   "version": "3.12.7"
  }
 },
 "nbformat": 4,
 "nbformat_minor": 5
}
